{
 "cells": [
  {
   "cell_type": "markdown",
   "metadata": {},
   "source": [
    "# Student Class"
   ]
  },
  {
   "cell_type": "code",
   "execution_count": 8,
   "metadata": {
    "colab": {
     "base_uri": "https://localhost:8080/"
    },
    "id": "AuBGWRY_oC70",
    "outputId": "7e625e50-274e-4cce-939a-ec042b552813"
   },
   "outputs": [
    {
     "name": "stdout",
     "output_type": "stream",
     "text": [
      "Average score:  56.0\n",
      "Is passing:  True\n"
     ]
    }
   ],
   "source": [
    "class Student:\n",
    "\n",
    "  def __init__(self):\n",
    "\n",
    "        self.name = input(\"Enter student name: \")\n",
    "        self.score = list(map(int, input(\"Enter scores for subjects (maths, science, english): \").split()))\n",
    "\n",
    "  def calculate_average(self):\n",
    "      return sum(self.score)/len(self.score)\n",
    "\n",
    "  def is_passing(self):\n",
    "      if self.calculate_average() >=40:\n",
    "        return True\n",
    "      else:\n",
    "        return False\n",
    "\n",
    "s1=Student()\n",
    "\n",
    "print(\"Average score: \", s1.calculate_average())\n",
    "print(\"Is passing: \", s1.is_passing())\n"
   ]
  },
  {
   "cell_type": "markdown",
   "metadata": {},
   "source": [
    "# Performance Tracker Class"
   ]
  },
  {
   "cell_type": "code",
   "execution_count": 9,
   "metadata": {
    "id": "xggrDkW93Nj0"
   },
   "outputs": [],
   "source": [
    "\n",
    "class performncee_tracker:\n",
    "\n",
    "  def __init__(self):\n",
    "    self.students={}\n",
    "\n",
    "  def add_sudent(self,name,score):\n",
    "\n",
    "    student = Student(name,score)\n",
    "    self.students[name]=student\n",
    "    print(f\" Student Name {name} added successfully\")\n",
    "\n",
    "  def class_average(self):\n",
    "\n",
    "    if not self.students:\n",
    "\n",
    "      return 0\n",
    "\n",
    "      total_score=sum(student.calculate_average() for student in self.students.values())\n",
    "      return total_score/len(self.students)\n",
    "\n",
    "\n",
    "  def display_student_performance(self):\n",
    "    for name,student in self.students.items():\n",
    "      print(f\"student name: {name}\")\n",
    "      print(f\"Score: {score}\")\n",
    "      print(f\"Average score: {student.calculate_average}\")\n",
    "      print(f\"passing status: {student.is_passing}\")\n",
    "\n"
   ]
  },
  {
   "cell_type": "code",
   "execution_count": 10,
   "metadata": {
    "colab": {
     "base_uri": "https://localhost:8080/",
     "height": 384
    },
    "id": "YdakiiOo1LnJ",
    "outputId": "9ba68ced-5238-43ec-8072-93cfa487ce8a"
   },
   "outputs": [
    {
     "ename": "AttributeError",
     "evalue": "'PerformanceTracker' object has no attribute 'add_student'",
     "output_type": "error",
     "traceback": [
      "\u001b[1;31m---------------------------------------------------------------------------\u001b[0m",
      "\u001b[1;31mAttributeError\u001b[0m                            Traceback (most recent call last)",
      "Cell \u001b[1;32mIn[10], line 4\u001b[0m\n\u001b[0;32m      2\u001b[0m student_count \u001b[38;5;241m=\u001b[39m \u001b[38;5;28mint\u001b[39m(\u001b[38;5;28minput\u001b[39m(\u001b[38;5;124m'\u001b[39m\u001b[38;5;124mEnter the number of students to add: \u001b[39m\u001b[38;5;124m'\u001b[39m))\n\u001b[0;32m      3\u001b[0m \u001b[38;5;28;01mfor\u001b[39;00m _ \u001b[38;5;129;01min\u001b[39;00m \u001b[38;5;28mrange\u001b[39m(student_count):\n\u001b[1;32m----> 4\u001b[0m     \u001b[43mperformance_tracker\u001b[49m\u001b[38;5;241;43m.\u001b[39;49m\u001b[43madd_student\u001b[49m()\n\u001b[0;32m      5\u001b[0m \u001b[38;5;28;01mwhile\u001b[39;00m \u001b[38;5;28;01mTrue\u001b[39;00m:\n\u001b[0;32m      6\u001b[0m   \u001b[38;5;28;01mif\u001b[39;00m \u001b[38;5;129;01mnot\u001b[39;00m performance_tracker\u001b[38;5;241m.\u001b[39madd_student():\n",
      "\u001b[1;31mAttributeError\u001b[0m: 'PerformanceTracker' object has no attribute 'add_student'"
     ]
    }
   ],
   "source": [
    "performance_tracker = PerformanceTracker()\n",
    "student_count = int(input('Enter the number of students to add: '))\n",
    "for _ in range(student_count):\n",
    "    performance_tracker.add_student()\n",
    "while True:\n",
    "  if not performance_tracker.add_student():\n",
    "    break\n",
    "# Display performance of each student and class average\n",
    "performance_tracker.display_student_performance()\n",
    "print(\"Class Average:\", performance_tracker.class_average())\n",
    "\n",
    "\n",
    "\n"
   ]
  },
  {
   "cell_type": "code",
   "execution_count": null,
   "metadata": {
    "id": "ljzZixuW3HXr"
   },
   "outputs": [],
   "source": []
  }
 ],
 "metadata": {
  "colab": {
   "provenance": []
  },
  "kernelspec": {
   "display_name": "Python 3",
   "name": "python3"
  },
  "language_info": {
   "codemirror_mode": {
    "name": "ipython",
    "version": 3
   },
   "file_extension": ".py",
   "mimetype": "text/x-python",
   "name": "python",
   "nbconvert_exporter": "python",
   "pygments_lexer": "ipython3",
   "version": "3.12.6"
  }
 },
 "nbformat": 4,
 "nbformat_minor": 0
}
